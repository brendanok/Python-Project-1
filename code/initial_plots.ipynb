{
 "cells": [
  {
   "cell_type": "code",
   "execution_count": 1,
   "id": "6da40815",
   "metadata": {},
   "outputs": [],
   "source": [
    "%load_ext lab_black"
   ]
  },
  {
   "cell_type": "code",
   "execution_count": 2,
   "id": "5018b917-96aa-4d58-be36-ccc769113be8",
   "metadata": {},
   "outputs": [],
   "source": [
    "import numpy as np\n",
    "import pandas as pd\n",
    "import matplotlib.pyplot as plt"
   ]
  },
  {
   "cell_type": "code",
   "execution_count": 3,
   "id": "38afdca7-6ce8-47f4-8f5f-ac6783897aaa",
   "metadata": {},
   "outputs": [],
   "source": [
    "from combine import recombine"
   ]
  },
  {
   "cell_type": "code",
   "execution_count": 4,
   "id": "b2891bc8",
   "metadata": {},
   "outputs": [],
   "source": [
    "data = recombine(\"../data/potholes_1.csv\", \"../data/potholes_2.csv\")"
   ]
  },
  {
   "cell_type": "code",
   "execution_count": 5,
   "id": "2b20ecde",
   "metadata": {},
   "outputs": [],
   "source": [
    "data[\"creation_date\"] = pd.to_datetime(data[\"CREATION DATE\"])\n",
    "data[\"completion_date\"] = pd.to_datetime(data[\"COMPLETION DATE\"])"
   ]
  },
  {
   "cell_type": "code",
   "execution_count": 6,
   "id": "57900006",
   "metadata": {},
   "outputs": [],
   "source": [
    "# wanted to calculate the duration"
   ]
  },
  {
   "cell_type": "code",
   "execution_count": 7,
   "id": "5c1cc857",
   "metadata": {},
   "outputs": [
    {
     "data": {
      "text/plain": [
       "Index(['CREATION DATE', 'STATUS', 'COMPLETION DATE', 'SERVICE REQUEST NUMBER',\n",
       "       'TYPE OF SERVICE REQUEST', 'CURRENT ACTIVITY', 'MOST RECENT ACTION',\n",
       "       'NUMBER OF POTHOLES FILLED ON BLOCK', 'STREET ADDRESS', 'ZIP',\n",
       "       'X COORDINATE', 'Y COORDINATE', 'Ward', 'Police District',\n",
       "       'Community Area', 'SSA', 'LATITUDE', 'LONGITUDE', 'LOCATION',\n",
       "       'creation_date', 'completion_date'],\n",
       "      dtype='object')"
      ]
     },
     "execution_count": 7,
     "metadata": {},
     "output_type": "execute_result"
    }
   ],
   "source": [
    "data.columns"
   ]
  },
  {
   "cell_type": "code",
   "execution_count": 8,
   "id": "0a1d3312",
   "metadata": {},
   "outputs": [],
   "source": [
    "data[\"year\"] = pd.DatetimeIndex(data[\"creation_date\"]).year"
   ]
  },
  {
   "cell_type": "code",
   "execution_count": 9,
   "id": "64a16823",
   "metadata": {},
   "outputs": [],
   "source": [
    "data1 = data.groupby([\"year\"])[\"creation_date\"].count()"
   ]
  },
  {
   "cell_type": "code",
   "execution_count": 10,
   "id": "9868aa17",
   "metadata": {},
   "outputs": [
    {
     "data": {
      "text/plain": [
       "year\n",
       "2009        3\n",
       "2010      608\n",
       "2011    80162\n",
       "2012    43237\n",
       "2013    69630\n",
       "Name: creation_date, dtype: int64"
      ]
     },
     "execution_count": 10,
     "metadata": {},
     "output_type": "execute_result"
    }
   ],
   "source": [
    "data1.head()"
   ]
  },
  {
   "cell_type": "code",
   "execution_count": 11,
   "id": "c3343e71",
   "metadata": {},
   "outputs": [
    {
     "data": {
      "text/plain": [
       "[<matplotlib.lines.Line2D at 0x7f81c11a42e0>]"
      ]
     },
     "execution_count": 11,
     "metadata": {},
     "output_type": "execute_result"
    },
    {
     "data": {
      "image/png": "[encoded data removed]",
      "text/plain": [
       "<Figure size 432x288 with 1 Axes>"
      ]
     },
     "metadata": {
      "needs_background": "light"
     },
     "output_type": "display_data"
    }
   ],
   "source": [
    "plt.plot(data1.index, data1)"
   ]
  }
 ],
 "metadata": {
  "environment": {
   "kernel": "python3",
   "name": "common-cpu.m91",
   "type": "gcloud",
   "uri": "gcr.io/deeplearning-platform-release/base-cpu:m91"
  },
  "kernelspec": {
   "display_name": "Python 3",
   "language": "python",
   "name": "python3"
  },
  "language_info": {
   "codemirror_mode": {
    "name": "ipython",
    "version": 3
   },
   "file_extension": ".py",
   "mimetype": "text/x-python",
   "name": "python",
   "nbconvert_exporter": "python",
   "pygments_lexer": "ipython3",
   "version": "3.7.12"
  }
 },
 "nbformat": 4,
 "nbformat_minor": 5
}
