{
 "cells": [
  {
   "cell_type": "code",
   "execution_count": 1,
   "id": "e5c5db1f-ef23-4d37-9a1f-1200fc4f9bf7",
   "metadata": {},
   "outputs": [],
   "source": [
    "%load_ext lab_black\n",
    "import os\n",
    "from combine import recombine\n",
    "import pandas as pd\n",
    "from sklearn import linear_model\n",
    "from sklearn.linear_model import LinearRegression\n",
    "import statsmodels.api as sm\n",
    "from scipy import stats\n",
    "import matplotlib.pyplot as plt"
   ]
  },
  {
   "cell_type": "code",
   "execution_count": 2,
   "id": "24988374-70fd-4ee6-8cae-a31667288c7a",
   "metadata": {
    "tags": []
   },
   "outputs": [],
   "source": [
    "# reading the data\n",
    "\n",
    "data = recombine(\"../data/potholes_1.csv\", \"../data/potholes_2.csv\")"
   ]
  },
  {
   "cell_type": "code",
   "execution_count": null,
   "id": "5a9e0fbd-4b8a-4dbd-95da-3f8625048982",
   "metadata": {
    "tags": []
   },
   "outputs": [],
   "source": [
    "# extract days from date data by converting date to time, creating completion time variable, and turning to an int\n",
    "\n",
    "data = data.drop_duplicates(subset=[\"SERVICE REQUEST NUMBER\"])\n",
    "data[\"creation_date\"] = pd.to_datetime(data[\"CREATION DATE\"])\n",
    "data[\"completion_date\"] = pd.to_datetime(data[\"COMPLETION DATE\"])\n",
    "data[\"creation_year\"] = pd.DatetimeIndex(data[\"creation_date\"]).year\n",
    "data[\"creation_date\"] = pd.to_datetime(data[\"creation_date\"], format=\"%m/%d/%Y\")\n",
    "data[\"completion_date\"] = pd.to_datetime(data[\"completion_date\"], format=\"%m/%d/%Y\")\n",
    "data[\"completion_time\"] = data[\"completion_date\"] - data[\"creation_date\"]\n",
    "data[\"completion_time\"] = data[\"completion_time\"].apply(lambda x: x.days)"
   ]
  },
  {
   "cell_type": "code",
   "execution_count": null,
   "id": "9b5d39f2-f32c-442b-95f2-ef8a4359fcad",
   "metadata": {},
   "outputs": [],
   "source": [
    "# inefficiently clean data\n",
    "\n",
    "data.drop(\"CREATION DATE\", axis=1, inplace=True)\n",
    "data.drop(\"COMPLETION DATE\", axis=1, inplace=True)\n",
    "data.drop(\"STATUS\", axis=1, inplace=True)\n",
    "data.drop(\"SERVICE REQUEST NUMBER\", axis=1, inplace=True)\n",
    "data.drop(\"TYPE OF SERVICE REQUEST\", axis=1, inplace=True)\n",
    "data.drop(\"CURRENT ACTIVITY\", axis=1, inplace=True)\n",
    "data.drop(\"MOST RECENT ACTION\", axis=1, inplace=True)\n",
    "data.drop(\"STREET ADDRESS\", axis=1, inplace=True)\n",
    "data.drop(\"X COORDINATE\", axis=1, inplace=True)\n",
    "data.drop(\"Y COORDINATE\", axis=1, inplace=True)\n",
    "data.drop(\"SSA\", axis=1, inplace=True)\n",
    "data.drop(\"LATITUDE\", axis=1, inplace=True)\n",
    "data.drop(\"LONGITUDE\", axis=1, inplace=True)\n",
    "data.drop(\"LOCATION\", axis=1, inplace=True)\n",
    "data.drop(\"creation_date\", axis=1, inplace=True)\n",
    "data.drop(\"completion_date\", axis=1, inplace=True)\n",
    "data.drop(\"ZIP\", axis=1, inplace=True)\n",
    "data.drop(\"Ward\", axis=1, inplace=True)\n",
    "data.drop(\"Police District\", axis=1, inplace=True)\n",
    "data.drop(\"NUMBER OF POTHOLES FILLED ON BLOCK\", axis=1, inplace=True)\n",
    "data = data.dropna()\n",
    "data[\"community_area\"] = data[\"Community Area\"].astype(int)\n",
    "data.drop(\"Community Area\", axis=1, inplace=True)"
   ]
  },
  {
   "cell_type": "code",
   "execution_count": null,
   "id": "151d764f-b740-4327-8362-d29bd03bcb60",
   "metadata": {},
   "outputs": [],
   "source": [
    "# make a list of total pothole count per community area\n",
    "\n",
    "potc = (\n",
    "    data.groupby([\"community_area\"])[\"creation_year\"].count().reset_index(name=\"count\")\n",
    ")\n",
    "potc = potc.drop(labels=0, axis=0)\n",
    "Ytemp = potc[\"count\"]\n",
    "Ytemp.reset_index(drop=True)"
   ]
  },
  {
   "cell_type": "code",
   "execution_count": null,
   "id": "1b384a99-a6ee-45b3-89fc-b686dac6ad14",
   "metadata": {},
   "outputs": [],
   "source": [
    "# make a list of average service request completion time by community area\n",
    "\n",
    "compt = data.groupby([\"community_area\"]).agg({\"completion_time\": \"mean\"})\n",
    "compt = compt.drop(labels=0, axis=0)\n",
    "Yb = compt"
   ]
  },
  {
   "cell_type": "code",
   "execution_count": null,
   "id": "178d01ff-a5a7-411a-8981-222a74c2ab7a",
   "metadata": {},
   "outputs": [],
   "source": [
    "# import surface area in Km^2 of every community area\n",
    "\n",
    "areas = pd.read_csv(\"../data/surfaceareas.csv\")\n",
    "areas[\"community_area\"] = areas[\"Area Number\"]\n",
    "areas[\"area\"] = areas[\"Area\"]\n",
    "areas.drop(\"Area Number\", axis=1, inplace=True)\n",
    "areas.drop(\"Area\", axis=1, inplace=True)"
   ]
  },
  {
   "cell_type": "code",
   "execution_count": null,
   "id": "fe07b9e8-67b4-48e6-9ba1-ae9448f73923",
   "metadata": {},
   "outputs": [],
   "source": [
    "# import crime data and make a list of average yearly crime by community area\n",
    "\n",
    "crimed = pd.read_csv(\"../data/Crimes_data.csv\")\n",
    "crimed[\"community_area\"] = crimed[\"Community Area\"]\n",
    "crimed[\"crime_rate\"] = crimed[\"ID\"]\n",
    "crimes = crimed[[\"community_area\", \"crime_rate\"]]\n",
    "crimes.dropna()\n",
    "crime = crimes.groupby([\"community_area\"]).count()\n",
    "crime[\"crime_rate\"] = crime[\"crime_rate\"] / 5"
   ]
  },
  {
   "cell_type": "code",
   "execution_count": null,
   "id": "370219c3-3737-4678-b5b3-5faf2c07b277",
   "metadata": {},
   "outputs": [],
   "source": [
    "# import per capita yearly income from census data by community area\n",
    "\n",
    "incomes = pd.read_csv(\"../data/chicago_census_data.csv\")\n",
    "incomes = incomes.drop(labels=77, axis=0)\n",
    "incomes[\"avg_income\"] = incomes[\"PER CAPITA INCOME \"]\n",
    "incomes[\"below_poverty\"] = incomes[\"PERCENT HOUSEHOLDS BELOW POVERTY\"]\n",
    "incomes[\"community_area\"] = incomes[\"Community Area Number\"].astype(int)\n",
    "income = incomes[[\"community_area\", \"avg_income\", \"below_poverty\"]]"
   ]
  },
  {
   "cell_type": "code",
   "execution_count": null,
   "id": "7b75b97f-2f36-429c-90c6-607a2dc03b47",
   "metadata": {},
   "outputs": [],
   "source": [
    "# import population by community area data\n",
    "\n",
    "pops = pd.read_csv(\"../data/population.csv\")\n",
    "pops[\"population\"] = pops[\"Total Population\"]\n",
    "pops[\"community_area\"] = pops[\"GeogKey\"]\n",
    "pop = pops[[\"community_area\", \"population\"]]"
   ]
  },
  {
   "cell_type": "code",
   "execution_count": null,
   "id": "067eeed9-5b7e-485d-8a28-e2fc719b5f08",
   "metadata": {},
   "outputs": [],
   "source": [
    "# create population density for every community area (in people/km^2)\n",
    "\n",
    "temp = pd.merge(pop, areas, on=\"community_area\")\n",
    "temp[\"popdensity\"] = temp[\"population\"] / temp[\"area\"]\n",
    "temp.drop(\"area\", axis=1, inplace=True)\n",
    "temp.drop(\"population\", axis=1, inplace=True)\n",
    "popdens = temp"
   ]
  },
  {
   "cell_type": "code",
   "execution_count": null,
   "id": "f41e2986-b576-40fe-8a3f-88a656bfe0e2",
   "metadata": {},
   "outputs": [],
   "source": [
    "# create pothole density for every community area (in potholes/km^2)\n",
    "\n",
    "t = Ytemp.to_frame().reset_index()\n",
    "t[\"community_area\"] = t[\"index\"]\n",
    "t.drop(\"index\", axis=1, inplace=True)\n",
    "temp2 = pd.merge(t, areas, on=\"community_area\")\n",
    "temp2[\"density\"] = temp2[\"count\"] / temp2[\"area\"]\n",
    "temp2.drop(\"area\", axis=1, inplace=True)\n",
    "temp2.drop(\"count\", axis=1, inplace=True)\n",
    "Ya = temp2[\"density\"]\n",
    "Ya.index += 1"
   ]
  },
  {
   "cell_type": "code",
   "execution_count": null,
   "id": "bb3f8a68-3239-4d9a-b49c-2e93c1aa405c",
   "metadata": {},
   "outputs": [],
   "source": [
    "# create an X matric for the regression with avg yearly income, population density, and crime rate\n",
    "\n",
    "Xt = pd.merge(income, crime, on=\"community_area\")\n",
    "X = pd.merge(Xt, popdens, on=\"community_area\")\n",
    "X.drop(\"community_area\", axis=1, inplace=True)\n",
    "X.index += 1"
   ]
  },
  {
   "cell_type": "code",
   "execution_count": null,
   "id": "a47b8210-4c81-4614-b0e4-a5f194e004a5",
   "metadata": {
    "tags": []
   },
   "outputs": [],
   "source": [
    "# add the constant term to the matrix\n",
    "\n",
    "Xc = sm.add_constant(X)"
   ]
  },
  {
   "cell_type": "code",
   "execution_count": null,
   "id": "0ea5c35f-aa10-40f1-93c5-6941c2a2fcf6",
   "metadata": {
    "tags": []
   },
   "outputs": [],
   "source": [
    "# regression of pothole density by community area on crime rate, population density, yearly income, and below poverty line population\n",
    "\n",
    "esta = sm.OLS(Ya, Xc)\n",
    "est1 = esta.fit()\n",
    "est1.summary()"
   ]
  },
  {
   "cell_type": "code",
   "execution_count": null,
   "id": "43de150f-8b64-4304-a391-178463b570db",
   "metadata": {},
   "outputs": [],
   "source": [
    "# regression of average service request completion time by community area on crime rate, population density,\n",
    "# yearly income, and below poverty line population\n",
    "\n",
    "estb = sm.OLS(Yb, Xc)\n",
    "est2 = estb.fit()\n",
    "est2.summary()"
   ]
  },
  {
   "cell_type": "code",
   "execution_count": null,
   "id": "b9850978-b3f5-4234-a8c9-e2ea55f5073d",
   "metadata": {},
   "outputs": [],
   "source": [
    "# exporting pictures of the first regression summary\n",
    "\n",
    "plt.rc(\"figure\", figsize=(4, 3), dpi=900)\n",
    "plt.text(0.01, 0.05, str(est1.summary()), {\"fontsize\": 9}, fontproperties=\"monospace\")\n",
    "plt.axis(\"off\")\n",
    "os.makedirs(\"../artifacts\", exist_ok=True)\n",
    "plt.savefig(\"../artifacts/reg1.png\")"
   ]
  },
  {
   "cell_type": "code",
   "execution_count": null,
   "id": "f52e65fe-dbf5-46ac-bb8e-7d493e56c975",
   "metadata": {},
   "outputs": [],
   "source": [
    "# exporting pictures of the second regression summary\n",
    "\n",
    "plt.rc(\"figure\", figsize=(4, 3), dpi=900)\n",
    "plt.text(0.01, 0.05, str(est2.summary()), {\"fontsize\": 9}, fontproperties=\"monospace\")\n",
    "plt.axis(\"off\")\n",
    "plt.savefig(\"../artifacts/reg2.png\")"
   ]
  }
 ],
 "metadata": {
  "environment": {
   "kernel": "python3",
   "name": "common-cpu.m91",
   "type": "gcloud",
   "uri": "gcr.io/deeplearning-platform-release/base-cpu:m91"
  },
  "kernelspec": {
   "display_name": "Python 3",
   "language": "python",
   "name": "python3"
  },
  "language_info": {
   "codemirror_mode": {
    "name": "ipython",
    "version": 3
   },
   "file_extension": ".py",
   "mimetype": "text/x-python",
   "name": "python",
   "nbconvert_exporter": "python",
   "pygments_lexer": "ipython3",
   "version": "3.7.12"
  }
 },
 "nbformat": 4,
 "nbformat_minor": 5
}
