{
 "cells": [
  {
   "cell_type": "code",
   "execution_count": 1,
   "id": "e5c5db1f-ef23-4d37-9a1f-1200fc4f9bf7",
   "metadata": {},
   "outputs": [],
   "source": [
    "#setup\n",
    "\n",
    "import pandas as pd\n",
    "import numpy as np\n",
    "from sklearn import linear_model\n",
    "from sklearn.linear_model import LinearRegression\n",
    "import statsmodels.api as sm\n",
    "from scipy import stats\n",
    "import matplotlib.pyplot as plt"
   ]
  },
  {
   "cell_type": "code",
   "execution_count": 2,
   "id": "24988374-70fd-4ee6-8cae-a31667288c7a",
   "metadata": {
    "tags": []
   },
   "outputs": [],
   "source": [
    "#recombine data\n",
    "\n",
    "from combine import recombine\n",
    "data = recombine(\"../data/potholes_1.csv\", \"../data/potholes_2.csv\")"
   ]
  },
  {
   "cell_type": "code",
   "execution_count": 3,
   "id": "5a9e0fbd-4b8a-4dbd-95da-3f8625048982",
   "metadata": {
    "tags": []
   },
   "outputs": [],
   "source": [
    "#extract days from date data by converting date to time, creating completion time variable, and turning to an int\n",
    "\n",
    "data = data.drop_duplicates(subset=['SERVICE REQUEST NUMBER'])\n",
    "data[\"creation_date\"] = pd.to_datetime(data[\"CREATION DATE\"])\n",
    "data[\"completion_date\"] = pd.to_datetime(data[\"COMPLETION DATE\"])\n",
    "data[\"creation_year\"] = pd.DatetimeIndex(data[\"creation_date\"]).year\n",
    "data[\"creation_date\"] = pd.to_datetime(data[\"creation_date\"], format = \"%m/%d/%Y\")\n",
    "data[\"completion_date\"] = pd.to_datetime(data[\"completion_date\"], format = \"%m/%d/%Y\")\n",
    "data[\"completion_time\"] = data[\"completion_date\"] - data[\"creation_date\"]\n",
    "data[\"completion_time\"] = data[\"completion_time\"].apply(lambda x: x.days)"
   ]
  },
  {
   "cell_type": "code",
   "execution_count": 4,
   "id": "9b5d39f2-f32c-442b-95f2-ef8a4359fcad",
   "metadata": {},
   "outputs": [],
   "source": [
    "#inefficiently clean data\n",
    "\n",
    "data.drop('CREATION DATE', axis=1, inplace=True)\n",
    "data.drop('COMPLETION DATE', axis=1, inplace=True)\n",
    "data.drop('STATUS', axis=1, inplace=True)\n",
    "data.drop('SERVICE REQUEST NUMBER', axis=1, inplace=True)\n",
    "data.drop('TYPE OF SERVICE REQUEST', axis=1, inplace=True)\n",
    "data.drop('CURRENT ACTIVITY', axis=1, inplace=True)\n",
    "data.drop('MOST RECENT ACTION', axis=1, inplace=True)\n",
    "data.drop('STREET ADDRESS', axis=1, inplace=True)\n",
    "data.drop('X COORDINATE', axis=1, inplace=True)\n",
    "data.drop('Y COORDINATE', axis=1, inplace=True)\n",
    "data.drop('SSA', axis=1, inplace=True)\n",
    "data.drop('LATITUDE', axis=1, inplace=True)\n",
    "data.drop('LONGITUDE', axis=1, inplace=True)\n",
    "data.drop('LOCATION', axis=1, inplace=True)\n",
    "data.drop('creation_date', axis=1, inplace=True)\n",
    "data.drop('completion_date', axis=1, inplace=True)\n",
    "data.drop('ZIP', axis=1, inplace=True)\n",
    "data.drop('Ward', axis=1, inplace=True)\n",
    "data.drop('Police District', axis=1, inplace=True)\n",
    "data.drop('NUMBER OF POTHOLES FILLED ON BLOCK', axis=1, inplace=True)\n",
    "data = data.dropna()\n",
    "data[\"community_area\"] = data[\"Community Area\"].astype(int)\n",
    "data.drop('Community Area', axis=1, inplace=True)"
   ]
  },
  {
   "cell_type": "code",
   "execution_count": 5,
   "id": "151d764f-b740-4327-8362-d29bd03bcb60",
   "metadata": {},
   "outputs": [
    {
     "data": {
      "text/plain": [
       "0      9944\n",
       "1     15371\n",
       "2      5407\n",
       "3      7055\n",
       "4      6318\n",
       "      ...  \n",
       "72     7602\n",
       "73     5084\n",
       "74     6680\n",
       "75     2276\n",
       "76     8915\n",
       "Name: count, Length: 77, dtype: int64"
      ]
     },
     "execution_count": 5,
     "metadata": {},
     "output_type": "execute_result"
    }
   ],
   "source": [
    "#make a list of total pothole count per community area\n",
    "\n",
    "potc = data.groupby([\"community_area\"])[\"creation_year\"].count().reset_index(name=\"count\")\n",
    "potc = potc.drop(labels=0, axis=0)\n",
    "Ya = potc[\"count\"]\n",
    "Ya.reset_index(drop=True)"
   ]
  },
  {
   "cell_type": "code",
   "execution_count": 6,
   "id": "1b384a99-a6ee-45b3-89fc-b686dac6ad14",
   "metadata": {},
   "outputs": [],
   "source": [
    "#make a list of average service request completion time by community area\n",
    "\n",
    "compt = data.groupby([\"community_area\"]).agg({'completion_time': 'mean'})\n",
    "compt = compt.drop(labels=0, axis=0)\n",
    "Yb = compt"
   ]
  },
  {
   "cell_type": "code",
   "execution_count": 7,
   "id": "178d01ff-a5a7-411a-8981-222a74c2ab7a",
   "metadata": {},
   "outputs": [],
   "source": [
    "#import surface area in Km^2 of every community area\n",
    "\n",
    "areas = pd.read_csv(\"../data/surfaceareas.csv\")\n",
    "areas[\"community_area\"] = areas[\"Area Number\"]\n",
    "areas[\"area\"] = areas[\"Area\"]\n",
    "areas.drop('Area Number', axis=1, inplace=True)\n",
    "areas.drop('Area', axis=1, inplace=True)"
   ]
  },
  {
   "cell_type": "code",
   "execution_count": 8,
   "id": "fe07b9e8-67b4-48e6-9ba1-ae9448f73923",
   "metadata": {},
   "outputs": [],
   "source": [
    "#import crime data and make a list of average yearly crime by community area\n",
    "\n",
    "crimed = pd.read_csv(\"../data/Crimes_data.csv\")\n",
    "crimed[\"community_area\"] = crimed[\"Community Area\"]\n",
    "crimed[\"crime_rate\"] = crimed[\"ID\"]\n",
    "crimes = crimed[['community_area', \"crime_rate\"]]\n",
    "crimes.dropna()\n",
    "crime = crimes.groupby([\"community_area\"]).count()\n",
    "crime[\"crime_rate\"] = crime[\"crime_rate\"] / 5"
   ]
  },
  {
   "cell_type": "code",
   "execution_count": 9,
   "id": "370219c3-3737-4678-b5b3-5faf2c07b277",
   "metadata": {},
   "outputs": [],
   "source": [
    "#import per capita yearly income from census data by community area\n",
    "\n",
    "incomes = pd.read_csv(\"../data/chicago_census_data.csv\")\n",
    "incomes = incomes.drop(labels=77, axis=0)\n",
    "incomes[\"avg_income\"] = incomes[\"PER CAPITA INCOME \"]\n",
    "incomes[\"below_poverty\"] = incomes[\"PERCENT HOUSEHOLDS BELOW POVERTY\"]\n",
    "incomes[\"community_area\"] = incomes[\"Community Area Number\"].astype(int)\n",
    "income = incomes[['community_area', \"avg_income\", \"below_poverty\"]]"
   ]
  },
  {
   "cell_type": "code",
   "execution_count": 10,
   "id": "7b75b97f-2f36-429c-90c6-607a2dc03b47",
   "metadata": {},
   "outputs": [],
   "source": [
    "#import population by community area data\n",
    "\n",
    "pops = pd.read_csv(\"../data/population.csv\")\n",
    "pops[\"population\"] = pops[\"Total Population\"]\n",
    "pops[\"community_area\"] = pops[\"GeogKey\"]\n",
    "pop = pops[[\"community_area\", \"population\"]]"
   ]
  },
  {
   "cell_type": "code",
   "execution_count": 11,
   "id": "067eeed9-5b7e-485d-8a28-e2fc719b5f08",
   "metadata": {},
   "outputs": [],
   "source": [
    "#create population density for every community area (in people/km^2)\n",
    "\n",
    "temp = pd.merge(pop, areas, on = 'community_area')\n",
    "temp[\"density\"] = temp[\"population\"] / temp[\"area\"]\n",
    "temp.drop('area', axis=1, inplace=True)\n",
    "temp.drop('population', axis=1, inplace=True)\n",
    "popdens = temp"
   ]
  },
  {
   "cell_type": "code",
   "execution_count": 12,
   "id": "f41e2986-b576-40fe-8a3f-88a656bfe0e2",
   "metadata": {},
   "outputs": [],
   "source": [
    "#create pothole density for every community area (in potholes/km^2)\n",
    "\n",
    "#temp2 = pd.merge(Ya, areas, on = 'community_area')\n",
    "#temp2[\"density\"] = temp2[\"count\"] / temp[\"area\"]\n",
    "#temp2.drop('area', axis=1, inplace=True)\n",
    "#temp2.drop('count', axis=1, inplace=True)\n",
    "#potdens = temp2\n",
    "#potdens.head"
   ]
  },
  {
   "cell_type": "code",
   "execution_count": 13,
   "id": "bb3f8a68-3239-4d9a-b49c-2e93c1aa405c",
   "metadata": {},
   "outputs": [],
   "source": [
    "#create an X matric for the regression with avg yearly income, population density, and crime rate\n",
    "\n",
    "Xt = pd.merge(income, crime, on = 'community_area')\n",
    "X = pd.merge(Xt, popdens, on = 'community_area')\n",
    "X.drop('community_area', axis=1, inplace=True)\n",
    "X.index += 1"
   ]
  },
  {
   "cell_type": "code",
   "execution_count": 14,
   "id": "89260658-87b1-4790-ba39-ed00d3f7bf4d",
   "metadata": {
    "tags": []
   },
   "outputs": [],
   "source": [
    "#add the constant term to the matrix\n",
    "\n",
    "Xc = sm.add_constant(X)"
   ]
  },
  {
   "cell_type": "code",
   "execution_count": 15,
   "id": "0ea5c35f-aa10-40f1-93c5-6941c2a2fcf6",
   "metadata": {
    "tags": []
   },
   "outputs": [
    {
     "data": {
      "text/html": [
       "<table class=\"simpletable\">\n",
       "<caption>OLS Regression Results</caption>\n",
       "<tr>\n",
       "  <th>Dep. Variable:</th>          <td>count</td>      <th>  R-squared:         </th> <td>   0.532</td>\n",
       "</tr>\n",
       "<tr>\n",
       "  <th>Model:</th>                   <td>OLS</td>       <th>  Adj. R-squared:    </th> <td>   0.506</td>\n",
       "</tr>\n",
       "<tr>\n",
       "  <th>Method:</th>             <td>Least Squares</td>  <th>  F-statistic:       </th> <td>   20.43</td>\n",
       "</tr>\n",
       "<tr>\n",
       "  <th>Date:</th>             <td>Tue, 22 Mar 2022</td> <th>  Prob (F-statistic):</th> <td>2.80e-11</td>\n",
       "</tr>\n",
       "<tr>\n",
       "  <th>Time:</th>                 <td>01:39:29</td>     <th>  Log-Likelihood:    </th> <td> -720.28</td>\n",
       "</tr>\n",
       "<tr>\n",
       "  <th>No. Observations:</th>      <td>    77</td>      <th>  AIC:               </th> <td>   1451.</td>\n",
       "</tr>\n",
       "<tr>\n",
       "  <th>Df Residuals:</th>          <td>    72</td>      <th>  BIC:               </th> <td>   1462.</td>\n",
       "</tr>\n",
       "<tr>\n",
       "  <th>Df Model:</th>              <td>     4</td>      <th>                     </th>     <td> </td>   \n",
       "</tr>\n",
       "<tr>\n",
       "  <th>Covariance Type:</th>      <td>nonrobust</td>    <th>                     </th>     <td> </td>   \n",
       "</tr>\n",
       "</table>\n",
       "<table class=\"simpletable\">\n",
       "<tr>\n",
       "        <td></td>           <th>coef</th>     <th>std err</th>      <th>t</th>      <th>P>|t|</th>  <th>[0.025</th>    <th>0.975]</th>  \n",
       "</tr>\n",
       "<tr>\n",
       "  <th>const</th>         <td> 8105.9507</td> <td> 1382.387</td> <td>    5.864</td> <td> 0.000</td> <td> 5350.213</td> <td> 1.09e+04</td>\n",
       "</tr>\n",
       "<tr>\n",
       "  <th>avg_income</th>    <td>   -0.0293</td> <td>    0.028</td> <td>   -1.041</td> <td> 0.301</td> <td>   -0.085</td> <td>    0.027</td>\n",
       "</tr>\n",
       "<tr>\n",
       "  <th>below_poverty</th> <td> -215.5168</td> <td>   38.755</td> <td>   -5.561</td> <td> 0.000</td> <td> -292.773</td> <td> -138.261</td>\n",
       "</tr>\n",
       "<tr>\n",
       "  <th>crime_rate</th>    <td>    2.9734</td> <td>    0.464</td> <td>    6.403</td> <td> 0.000</td> <td>    2.048</td> <td>    3.899</td>\n",
       "</tr>\n",
       "<tr>\n",
       "  <th>density</th>       <td>    0.4623</td> <td>    0.140</td> <td>    3.312</td> <td> 0.001</td> <td>    0.184</td> <td>    0.741</td>\n",
       "</tr>\n",
       "</table>\n",
       "<table class=\"simpletable\">\n",
       "<tr>\n",
       "  <th>Omnibus:</th>       <td> 6.074</td> <th>  Durbin-Watson:     </th> <td>   2.414</td>\n",
       "</tr>\n",
       "<tr>\n",
       "  <th>Prob(Omnibus):</th> <td> 0.048</td> <th>  Jarque-Bera (JB):  </th> <td>   5.755</td>\n",
       "</tr>\n",
       "<tr>\n",
       "  <th>Skew:</th>          <td> 0.668</td> <th>  Prob(JB):          </th> <td>  0.0563</td>\n",
       "</tr>\n",
       "<tr>\n",
       "  <th>Kurtosis:</th>      <td> 3.098</td> <th>  Cond. No.          </th> <td>1.26e+05</td>\n",
       "</tr>\n",
       "</table><br/><br/>Notes:<br/>[1] Standard Errors assume that the covariance matrix of the errors is correctly specified.<br/>[2] The condition number is large, 1.26e+05. This might indicate that there are<br/>strong multicollinearity or other numerical problems."
      ],
      "text/plain": [
       "<class 'statsmodels.iolib.summary.Summary'>\n",
       "\"\"\"\n",
       "                            OLS Regression Results                            \n",
       "==============================================================================\n",
       "Dep. Variable:                  count   R-squared:                       0.532\n",
       "Model:                            OLS   Adj. R-squared:                  0.506\n",
       "Method:                 Least Squares   F-statistic:                     20.43\n",
       "Date:                Tue, 22 Mar 2022   Prob (F-statistic):           2.80e-11\n",
       "Time:                        01:39:29   Log-Likelihood:                -720.28\n",
       "No. Observations:                  77   AIC:                             1451.\n",
       "Df Residuals:                      72   BIC:                             1462.\n",
       "Df Model:                           4                                         \n",
       "Covariance Type:            nonrobust                                         \n",
       "=================================================================================\n",
       "                    coef    std err          t      P>|t|      [0.025      0.975]\n",
       "---------------------------------------------------------------------------------\n",
       "const          8105.9507   1382.387      5.864      0.000    5350.213    1.09e+04\n",
       "avg_income       -0.0293      0.028     -1.041      0.301      -0.085       0.027\n",
       "below_poverty  -215.5168     38.755     -5.561      0.000    -292.773    -138.261\n",
       "crime_rate        2.9734      0.464      6.403      0.000       2.048       3.899\n",
       "density           0.4623      0.140      3.312      0.001       0.184       0.741\n",
       "==============================================================================\n",
       "Omnibus:                        6.074   Durbin-Watson:                   2.414\n",
       "Prob(Omnibus):                  0.048   Jarque-Bera (JB):                5.755\n",
       "Skew:                           0.668   Prob(JB):                       0.0563\n",
       "Kurtosis:                       3.098   Cond. No.                     1.26e+05\n",
       "==============================================================================\n",
       "\n",
       "Notes:\n",
       "[1] Standard Errors assume that the covariance matrix of the errors is correctly specified.\n",
       "[2] The condition number is large, 1.26e+05. This might indicate that there are\n",
       "strong multicollinearity or other numerical problems.\n",
       "\"\"\""
      ]
     },
     "execution_count": 15,
     "metadata": {},
     "output_type": "execute_result"
    }
   ],
   "source": [
    "#regression of total potholes by community area on crime rate, population, and yearly income\n",
    "\n",
    "esta = sm.OLS(Ya, Xc)\n",
    "est1 = esta.fit()\n",
    "est1.summary()"
   ]
  },
  {
   "cell_type": "code",
   "execution_count": 16,
   "id": "43de150f-8b64-4304-a391-178463b570db",
   "metadata": {},
   "outputs": [
    {
     "data": {
      "text/html": [
       "<table class=\"simpletable\">\n",
       "<caption>OLS Regression Results</caption>\n",
       "<tr>\n",
       "  <th>Dep. Variable:</th>     <td>completion_time</td> <th>  R-squared:         </th> <td>   0.158</td>\n",
       "</tr>\n",
       "<tr>\n",
       "  <th>Model:</th>                   <td>OLS</td>       <th>  Adj. R-squared:    </th> <td>   0.111</td>\n",
       "</tr>\n",
       "<tr>\n",
       "  <th>Method:</th>             <td>Least Squares</td>  <th>  F-statistic:       </th> <td>   3.367</td>\n",
       "</tr>\n",
       "<tr>\n",
       "  <th>Date:</th>             <td>Tue, 22 Mar 2022</td> <th>  Prob (F-statistic):</th>  <td>0.0139</td> \n",
       "</tr>\n",
       "<tr>\n",
       "  <th>Time:</th>                 <td>01:39:29</td>     <th>  Log-Likelihood:    </th> <td> -281.90</td>\n",
       "</tr>\n",
       "<tr>\n",
       "  <th>No. Observations:</th>      <td>    77</td>      <th>  AIC:               </th> <td>   573.8</td>\n",
       "</tr>\n",
       "<tr>\n",
       "  <th>Df Residuals:</th>          <td>    72</td>      <th>  BIC:               </th> <td>   585.5</td>\n",
       "</tr>\n",
       "<tr>\n",
       "  <th>Df Model:</th>              <td>     4</td>      <th>                     </th>     <td> </td>   \n",
       "</tr>\n",
       "<tr>\n",
       "  <th>Covariance Type:</th>      <td>nonrobust</td>    <th>                     </th>     <td> </td>   \n",
       "</tr>\n",
       "</table>\n",
       "<table class=\"simpletable\">\n",
       "<tr>\n",
       "        <td></td>           <th>coef</th>     <th>std err</th>      <th>t</th>      <th>P>|t|</th>  <th>[0.025</th>    <th>0.975]</th>  \n",
       "</tr>\n",
       "<tr>\n",
       "  <th>const</th>         <td>   29.3321</td> <td>    4.657</td> <td>    6.299</td> <td> 0.000</td> <td>   20.049</td> <td>   38.615</td>\n",
       "</tr>\n",
       "<tr>\n",
       "  <th>avg_income</th>    <td>   -0.0001</td> <td> 9.47e-05</td> <td>   -1.122</td> <td> 0.266</td> <td>   -0.000</td> <td> 8.25e-05</td>\n",
       "</tr>\n",
       "<tr>\n",
       "  <th>below_poverty</th> <td>   -0.2400</td> <td>    0.131</td> <td>   -1.839</td> <td> 0.070</td> <td>   -0.500</td> <td>    0.020</td>\n",
       "</tr>\n",
       "<tr>\n",
       "  <th>crime_rate</th>    <td>    0.0017</td> <td>    0.002</td> <td>    1.056</td> <td> 0.295</td> <td>   -0.001</td> <td>    0.005</td>\n",
       "</tr>\n",
       "<tr>\n",
       "  <th>density</th>       <td>    0.0013</td> <td>    0.000</td> <td>    2.857</td> <td> 0.006</td> <td>    0.000</td> <td>    0.002</td>\n",
       "</tr>\n",
       "</table>\n",
       "<table class=\"simpletable\">\n",
       "<tr>\n",
       "  <th>Omnibus:</th>       <td> 7.551</td> <th>  Durbin-Watson:     </th> <td>   0.955</td>\n",
       "</tr>\n",
       "<tr>\n",
       "  <th>Prob(Omnibus):</th> <td> 0.023</td> <th>  Jarque-Bera (JB):  </th> <td>   3.465</td>\n",
       "</tr>\n",
       "<tr>\n",
       "  <th>Skew:</th>          <td> 0.253</td> <th>  Prob(JB):          </th> <td>   0.177</td>\n",
       "</tr>\n",
       "<tr>\n",
       "  <th>Kurtosis:</th>      <td> 2.093</td> <th>  Cond. No.          </th> <td>1.26e+05</td>\n",
       "</tr>\n",
       "</table><br/><br/>Notes:<br/>[1] Standard Errors assume that the covariance matrix of the errors is correctly specified.<br/>[2] The condition number is large, 1.26e+05. This might indicate that there are<br/>strong multicollinearity or other numerical problems."
      ],
      "text/plain": [
       "<class 'statsmodels.iolib.summary.Summary'>\n",
       "\"\"\"\n",
       "                            OLS Regression Results                            \n",
       "==============================================================================\n",
       "Dep. Variable:        completion_time   R-squared:                       0.158\n",
       "Model:                            OLS   Adj. R-squared:                  0.111\n",
       "Method:                 Least Squares   F-statistic:                     3.367\n",
       "Date:                Tue, 22 Mar 2022   Prob (F-statistic):             0.0139\n",
       "Time:                        01:39:29   Log-Likelihood:                -281.90\n",
       "No. Observations:                  77   AIC:                             573.8\n",
       "Df Residuals:                      72   BIC:                             585.5\n",
       "Df Model:                           4                                         \n",
       "Covariance Type:            nonrobust                                         \n",
       "=================================================================================\n",
       "                    coef    std err          t      P>|t|      [0.025      0.975]\n",
       "---------------------------------------------------------------------------------\n",
       "const            29.3321      4.657      6.299      0.000      20.049      38.615\n",
       "avg_income       -0.0001   9.47e-05     -1.122      0.266      -0.000    8.25e-05\n",
       "below_poverty    -0.2400      0.131     -1.839      0.070      -0.500       0.020\n",
       "crime_rate        0.0017      0.002      1.056      0.295      -0.001       0.005\n",
       "density           0.0013      0.000      2.857      0.006       0.000       0.002\n",
       "==============================================================================\n",
       "Omnibus:                        7.551   Durbin-Watson:                   0.955\n",
       "Prob(Omnibus):                  0.023   Jarque-Bera (JB):                3.465\n",
       "Skew:                           0.253   Prob(JB):                        0.177\n",
       "Kurtosis:                       2.093   Cond. No.                     1.26e+05\n",
       "==============================================================================\n",
       "\n",
       "Notes:\n",
       "[1] Standard Errors assume that the covariance matrix of the errors is correctly specified.\n",
       "[2] The condition number is large, 1.26e+05. This might indicate that there are\n",
       "strong multicollinearity or other numerical problems.\n",
       "\"\"\""
      ]
     },
     "execution_count": 16,
     "metadata": {},
     "output_type": "execute_result"
    }
   ],
   "source": [
    "#regression of average pothole service request completion time by community area on crime rate and yearly income\n",
    "\n",
    "estb = sm.OLS(Yb, Xc)\n",
    "est2 = estb.fit()\n",
    "est2.summary()"
   ]
  },
  {
   "cell_type": "code",
   "execution_count": 17,
   "id": "41cdecf8-81c3-4048-abb9-1bb85554ddcd",
   "metadata": {},
   "outputs": [
    {
     "data": {
      "text/plain": [
       "\"\\nplt.rc('figure', figsize=(14, 8))\\nplt.text(0.01, 0.05, str(est1.summary()), {'fontsize': 9}, fontproperties = 'monospace')\\nplt.axis('off')\\nplt.tight_layout()\\nplt.savefig('../artifacts/reg1.png')\\n\\nplt.rc('figure', figsize=(14, 8))\\nplt.text(0.01, 0.05, str(est2.summary()), {'fontsize': 9}, fontproperties = 'monospace')\\nplt.axis('off')\\nplt.tight_layout()\\nplt.savefig('../artifacts/reg2.png')\\n\""
      ]
     },
     "execution_count": 17,
     "metadata": {},
     "output_type": "execute_result"
    }
   ],
   "source": [
    "#exporting pictures of the two regression summaries\n",
    "'''\n",
    "plt.rc('figure', figsize=(14, 8))\n",
    "plt.text(0.01, 0.05, str(est1.summary()), {'fontsize': 9}, fontproperties = 'monospace')\n",
    "plt.axis('off')\n",
    "plt.tight_layout()\n",
    "plt.savefig('../artifacts/reg1.png')\n",
    "\n",
    "plt.rc('figure', figsize=(14, 8))\n",
    "plt.text(0.01, 0.05, str(est2.summary()), {'fontsize': 9}, fontproperties = 'monospace')\n",
    "plt.axis('off')\n",
    "plt.tight_layout()\n",
    "plt.savefig('../artifacts/reg2.png')\n",
    "'''"
   ]
  },
  {
   "cell_type": "code",
   "execution_count": 18,
   "id": "b852d091-f0bd-4216-bcc2-cb5f196d0a49",
   "metadata": {},
   "outputs": [],
   "source": [
    "est1.save(\"../artifacts/reg1.csv\", remove_data=False)\n",
    "est2.save(\"../artifacts/reg2.csv\", remove_data=False)"
   ]
  },
  {
   "cell_type": "code",
   "execution_count": null,
   "id": "2e646772-275c-4b3f-ae76-bb412abd4728",
   "metadata": {},
   "outputs": [],
   "source": []
  }
 ],
 "metadata": {
  "environment": {
   "kernel": "python3",
   "name": "common-cpu.m90",
   "type": "gcloud",
   "uri": "gcr.io/deeplearning-platform-release/base-cpu:m90"
  },
  "kernelspec": {
   "display_name": "Python 3",
   "language": "python",
   "name": "python3"
  },
  "language_info": {
   "codemirror_mode": {
    "name": "ipython",
    "version": 3
   },
   "file_extension": ".py",
   "mimetype": "text/x-python",
   "name": "python",
   "nbconvert_exporter": "python",
   "pygments_lexer": "ipython3",
   "version": "3.7.12"
  }
 },
 "nbformat": 4,
 "nbformat_minor": 5
}
